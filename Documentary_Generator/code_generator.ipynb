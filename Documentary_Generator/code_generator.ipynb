{
  "cells": [
    {
      "cell_type": "markdown",
      "metadata": {
        "id": "view-in-github",
        "colab_type": "text"
      },
      "source": [
        "<a href=\"https://colab.research.google.com/github/Teywa-OZIOL/AI_Content_Factory/blob/main/Documentary_Generator/code_generator.ipynb\" target=\"_parent\"><img src=\"https://colab.research.google.com/assets/colab-badge.svg\" alt=\"Open In Colab\"/></a>"
      ]
    },
    {
      "cell_type": "markdown",
      "source": [
        "# Function Installation"
      ],
      "metadata": {
        "id": "c3U5hepT4XTL"
      }
    },
    {
      "cell_type": "code",
      "source": [
        "!pip install google.genai\n",
        "!pip install groq"
      ],
      "metadata": {
        "colab": {
          "base_uri": "https://localhost:8080/"
        },
        "id": "VkfwY-in4idX",
        "outputId": "eea1ff60-8459-4e6e-f998-04a9209813aa"
      },
      "execution_count": 27,
      "outputs": [
        {
          "output_type": "stream",
          "name": "stdout",
          "text": [
            "Requirement already satisfied: google.genai in /usr/local/lib/python3.12/dist-packages (1.46.0)\n",
            "Requirement already satisfied: anyio<5.0.0,>=4.8.0 in /usr/local/lib/python3.12/dist-packages (from google.genai) (4.11.0)\n",
            "Requirement already satisfied: google-auth<3.0.0,>=2.14.1 in /usr/local/lib/python3.12/dist-packages (from google.genai) (2.38.0)\n",
            "Requirement already satisfied: httpx<1.0.0,>=0.28.1 in /usr/local/lib/python3.12/dist-packages (from google.genai) (0.28.1)\n",
            "Requirement already satisfied: pydantic<3.0.0,>=2.0.0 in /usr/local/lib/python3.12/dist-packages (from google.genai) (2.11.10)\n",
            "Requirement already satisfied: requests<3.0.0,>=2.28.1 in /usr/local/lib/python3.12/dist-packages (from google.genai) (2.32.4)\n",
            "Requirement already satisfied: tenacity<9.2.0,>=8.2.3 in /usr/local/lib/python3.12/dist-packages (from google.genai) (8.5.0)\n",
            "Requirement already satisfied: websockets<15.1.0,>=13.0.0 in /usr/local/lib/python3.12/dist-packages (from google.genai) (15.0.1)\n",
            "Requirement already satisfied: typing-extensions<5.0.0,>=4.11.0 in /usr/local/lib/python3.12/dist-packages (from google.genai) (4.15.0)\n",
            "Requirement already satisfied: idna>=2.8 in /usr/local/lib/python3.12/dist-packages (from anyio<5.0.0,>=4.8.0->google.genai) (3.11)\n",
            "Requirement already satisfied: sniffio>=1.1 in /usr/local/lib/python3.12/dist-packages (from anyio<5.0.0,>=4.8.0->google.genai) (1.3.1)\n",
            "Requirement already satisfied: cachetools<6.0,>=2.0.0 in /usr/local/lib/python3.12/dist-packages (from google-auth<3.0.0,>=2.14.1->google.genai) (5.5.2)\n",
            "Requirement already satisfied: pyasn1-modules>=0.2.1 in /usr/local/lib/python3.12/dist-packages (from google-auth<3.0.0,>=2.14.1->google.genai) (0.4.2)\n",
            "Requirement already satisfied: rsa<5,>=3.1.4 in /usr/local/lib/python3.12/dist-packages (from google-auth<3.0.0,>=2.14.1->google.genai) (4.9.1)\n",
            "Requirement already satisfied: certifi in /usr/local/lib/python3.12/dist-packages (from httpx<1.0.0,>=0.28.1->google.genai) (2025.10.5)\n",
            "Requirement already satisfied: httpcore==1.* in /usr/local/lib/python3.12/dist-packages (from httpx<1.0.0,>=0.28.1->google.genai) (1.0.9)\n",
            "Requirement already satisfied: h11>=0.16 in /usr/local/lib/python3.12/dist-packages (from httpcore==1.*->httpx<1.0.0,>=0.28.1->google.genai) (0.16.0)\n",
            "Requirement already satisfied: annotated-types>=0.6.0 in /usr/local/lib/python3.12/dist-packages (from pydantic<3.0.0,>=2.0.0->google.genai) (0.7.0)\n",
            "Requirement already satisfied: pydantic-core==2.33.2 in /usr/local/lib/python3.12/dist-packages (from pydantic<3.0.0,>=2.0.0->google.genai) (2.33.2)\n",
            "Requirement already satisfied: typing-inspection>=0.4.0 in /usr/local/lib/python3.12/dist-packages (from pydantic<3.0.0,>=2.0.0->google.genai) (0.4.2)\n",
            "Requirement already satisfied: charset_normalizer<4,>=2 in /usr/local/lib/python3.12/dist-packages (from requests<3.0.0,>=2.28.1->google.genai) (3.4.4)\n",
            "Requirement already satisfied: urllib3<3,>=1.21.1 in /usr/local/lib/python3.12/dist-packages (from requests<3.0.0,>=2.28.1->google.genai) (2.5.0)\n",
            "Requirement already satisfied: pyasn1<0.7.0,>=0.6.1 in /usr/local/lib/python3.12/dist-packages (from pyasn1-modules>=0.2.1->google-auth<3.0.0,>=2.14.1->google.genai) (0.6.1)\n",
            "Requirement already satisfied: groq in /usr/local/lib/python3.12/dist-packages (0.33.0)\n",
            "Requirement already satisfied: anyio<5,>=3.5.0 in /usr/local/lib/python3.12/dist-packages (from groq) (4.11.0)\n",
            "Requirement already satisfied: distro<2,>=1.7.0 in /usr/local/lib/python3.12/dist-packages (from groq) (1.9.0)\n",
            "Requirement already satisfied: httpx<1,>=0.23.0 in /usr/local/lib/python3.12/dist-packages (from groq) (0.28.1)\n",
            "Requirement already satisfied: pydantic<3,>=1.9.0 in /usr/local/lib/python3.12/dist-packages (from groq) (2.11.10)\n",
            "Requirement already satisfied: sniffio in /usr/local/lib/python3.12/dist-packages (from groq) (1.3.1)\n",
            "Requirement already satisfied: typing-extensions<5,>=4.10 in /usr/local/lib/python3.12/dist-packages (from groq) (4.15.0)\n",
            "Requirement already satisfied: idna>=2.8 in /usr/local/lib/python3.12/dist-packages (from anyio<5,>=3.5.0->groq) (3.11)\n",
            "Requirement already satisfied: certifi in /usr/local/lib/python3.12/dist-packages (from httpx<1,>=0.23.0->groq) (2025.10.5)\n",
            "Requirement already satisfied: httpcore==1.* in /usr/local/lib/python3.12/dist-packages (from httpx<1,>=0.23.0->groq) (1.0.9)\n",
            "Requirement already satisfied: h11>=0.16 in /usr/local/lib/python3.12/dist-packages (from httpcore==1.*->httpx<1,>=0.23.0->groq) (0.16.0)\n",
            "Requirement already satisfied: annotated-types>=0.6.0 in /usr/local/lib/python3.12/dist-packages (from pydantic<3,>=1.9.0->groq) (0.7.0)\n",
            "Requirement already satisfied: pydantic-core==2.33.2 in /usr/local/lib/python3.12/dist-packages (from pydantic<3,>=1.9.0->groq) (2.33.2)\n",
            "Requirement already satisfied: typing-inspection>=0.4.0 in /usr/local/lib/python3.12/dist-packages (from pydantic<3,>=1.9.0->groq) (0.4.2)\n"
          ]
        }
      ]
    },
    {
      "cell_type": "markdown",
      "source": [
        "# Import Package"
      ],
      "metadata": {
        "id": "H2JqfjGT4dqv"
      }
    },
    {
      "cell_type": "code",
      "source": [
        "from google import genai\n",
        "import wave\n",
        "from google.colab import userdata\n",
        "from groq import Groq\n",
        "import json\n",
        "import re"
      ],
      "metadata": {
        "id": "VtQpWtjM94Ls"
      },
      "execution_count": 28,
      "outputs": []
    },
    {
      "cell_type": "markdown",
      "source": [
        "# Initial Parameters"
      ],
      "metadata": {
        "id": "5dRjES5c__HH"
      }
    },
    {
      "cell_type": "code",
      "source": [
        "!mkdir outputs"
      ],
      "metadata": {
        "colab": {
          "base_uri": "https://localhost:8080/"
        },
        "id": "DKg7rhJ6_7UX",
        "outputId": "b7aa7252-9187-4a08-e16f-4de8d9bfc2e6"
      },
      "execution_count": 29,
      "outputs": [
        {
          "output_type": "stream",
          "name": "stdout",
          "text": [
            "mkdir: cannot create directory ‘outputs’: File exists\n"
          ]
        }
      ]
    },
    {
      "cell_type": "code",
      "source": [
        "TOPIC = \"La guerre froide\"\n",
        "FILENAME = re.sub(r'[^a-zA-Z0-9_-]+', '_', TOPIC.lower())\n",
        "OUTPUT_DIR = \"outputs\""
      ],
      "metadata": {
        "id": "oHvR_LypAHnS"
      },
      "execution_count": 30,
      "outputs": []
    },
    {
      "cell_type": "markdown",
      "source": [
        "# Part 1 : Plan Generation"
      ],
      "metadata": {
        "id": "HmFfVKU87pLJ"
      }
    },
    {
      "cell_type": "code",
      "source": [
        "def parse_output(text):\n",
        "        cleaned = text.strip(\"```python\").strip(\"```\").strip()\n",
        "        try:\n",
        "            return eval(cleaned)\n",
        "        except Exception:\n",
        "            try:\n",
        "                return json.loads(cleaned)\n",
        "            except Exception:\n",
        "                return None\n",
        "\n",
        "def topic_analyzer(topic):\n",
        "    GROQ_API_KEY = userdata.get('GROQ')\n",
        "    client = Groq(api_key=GROQ_API_KEY)\n",
        "\n",
        "    system_prompt = \"\"\"\n",
        "        Tu es un expert en storytelling documentaire et en référencement YouTube (SEO).\n",
        "        Ton rôle :\n",
        "        - Créer des plans de documentaires captivants et informatifs.\n",
        "        - Générer des titres accrocheurs (type YouTube) et des descriptions SEO de 150–250 mots.\n",
        "        - Employer un ton immersif, pédagogique et crédible.\n",
        "        - Utiliser des mots-clés pertinents pour le référencement SEO.\n",
        "        - Toujours respecter strictement le format demandé (dictionnaire Python).\n",
        "    \"\"\"\n",
        "\n",
        "    example = \"\"\"Exemple de format attendu :\n",
        "        {\n",
        "          \"titre_video\": \"La Guerre Froide : Quand le monde a failli exploser\",\n",
        "          \"description_SEO\": \"Découvrez l’histoire fascinante de la Guerre Froide...\",\n",
        "          \"mots_cles\": [\"guerre froide\", \"URSS\", \"États-Unis\", \"crise de Cuba\"],\n",
        "          \"chapitres\": [\n",
        "            {\"titre\": \"1. Le monde après 1945\", \"contenu\": \"Après la Seconde Guerre mondiale...\"},\n",
        "            {\"titre\": \"2. Le rideau de fer\", \"contenu\": \"La division de l’Europe en deux blocs...\"},\n",
        "            ...\n",
        "          ]\n",
        "        }\n",
        "    \"\"\"\n",
        "\n",
        "    user_prompt = f\"\"\"\n",
        "        Crée un plan complet de documentaire de 10 à 15 minutes sur : \"{topic}\".\n",
        "\n",
        "        Respecte exactement la structure suivante :\n",
        "        {{\n",
        "          \"titre_video\": str,          # titre accrocheur, format YouTube\n",
        "          \"description_SEO\": str,      # 150–250 mots, riche en mots-clés, ton narratif\n",
        "          \"mots_cles\": [str, ...],     # mots-clés pertinents pour le SEO\n",
        "          \"chapitres\": [               # 3 à 6 chapitres, chacun 3 à 5 phrases\n",
        "            {{\"titre\": str, \"contenu\": str}},\n",
        "            ...\n",
        "          ]\n",
        "        }}\n",
        "\n",
        "        {example}\n",
        "\n",
        "        Règles :\n",
        "        - Retourne UNIQUEMENT le dictionnaire Python, sans texte autour.\n",
        "        - Le ton doit être immersif et dynamique.\n",
        "    \"\"\"\n",
        "\n",
        "    response = client.chat.completions.create(\n",
        "        model=\"llama-3.3-70b-versatile\",\n",
        "        messages=[\n",
        "            {\"role\": \"system\", \"content\": system_prompt},\n",
        "            {\"role\": \"user\", \"content\": user_prompt},\n",
        "        ],\n",
        "        temperature=0.7,\n",
        "        max_tokens=2000,\n",
        "    )\n",
        "\n",
        "    raw_output = response.choices[0].message.content.strip()\n",
        "\n",
        "    plan = parse_output(raw_output)\n",
        "\n",
        "    output_path = f\"{OUTPUT_DIR}/PART1_{FILENAME}.json\"\n",
        "\n",
        "    with open(output_path, \"w\", encoding=\"utf-8\") as f:\n",
        "        json.dump(plan, f, indent=2, ensure_ascii=False)\n",
        "\n",
        "    print('===============================================')\n",
        "    print(f\"✅ PART 1 : Documentary Plan Generated !!!\")\n",
        "    print('===============================================')\n",
        "\n",
        "    return"
      ],
      "metadata": {
        "id": "V6g_G4Wt-6lf"
      },
      "execution_count": 31,
      "outputs": []
    },
    {
      "cell_type": "markdown",
      "source": [
        "# Part 2 : Script Generation"
      ],
      "metadata": {
        "id": "FoXndRJY9sEV"
      }
    },
    {
      "cell_type": "code",
      "source": [
        "def generate_text(client, prompt, max_tokens=1500, temperature=0.7):\n",
        "        response = client.chat.completions.create(\n",
        "            model=\"llama-3.3-70b-versatile\",\n",
        "            messages=[{\"role\": \"user\", \"content\": prompt}],\n",
        "            temperature=temperature,\n",
        "            max_tokens=max_tokens,\n",
        "        )\n",
        "        text = response.choices[0].message.content.strip()\n",
        "        return text.strip(\"```\").strip(\"python\").strip()\n",
        "\n",
        "def script_generator(topic):\n",
        "\n",
        "    GROQ_API_KEY = userdata.get('GROQ')\n",
        "    client = Groq(api_key=GROQ_API_KEY)\n",
        "\n",
        "    plan_path = f\"{OUTPUT_DIR}/PART1_{FILENAME}.json\"\n",
        "\n",
        "    with open(plan_path, \"r\", encoding=\"utf-8\") as f:\n",
        "        plan = json.load(f)\n",
        "\n",
        "    topic = plan[\"titre_video\"]\n",
        "\n",
        "    output_json_path = f\"{OUTPUT_DIR}/PART2_{FILENAME}.json\"\n",
        "\n",
        "    script_chapters = []\n",
        "\n",
        "    intro_prompt = f\"\"\"\n",
        "        Rédige une introduction captivante pour le documentaire '{topic}'.\n",
        "        Durée : ~250 mots (~2 min narration).\n",
        "        Style : narratif immersif, comme une voix-off de Netflix/Arte.\n",
        "        Ne mentionne aucun chapitre encore. Ajoute entre crochet,\n",
        "        la manière dont il faut raconter certaines phrases entre colère, joie, tristesse, résignation, ...\n",
        "        ajoute aussi des rires, des soupires, des exclamations, des petits défauts authentique\n",
        "    \"\"\"\n",
        "\n",
        "    intro_text = generate_text(client, intro_prompt)\n",
        "\n",
        "    script_chapters.append({\n",
        "        \"numero\": 0,\n",
        "        \"titre\": \"Introduction\",\n",
        "        \"texte\": intro_text\n",
        "    })\n",
        "\n",
        "    print(\"✅ PART 2 : Introduction Script Generated\")\n",
        "\n",
        "    previous_context = intro_text\n",
        "    for idx, chap in enumerate(plan[\"chapitres\"], start=1):\n",
        "        chap_prompt = f\"\"\"\n",
        "            Tu écris le chapitre {idx} d'un documentaire sur '{topic}'.\n",
        "            Titre du chapitre : \"{chap['titre']}\"\n",
        "            Résumé du plan : \"{chap['contenu']}\"\n",
        "            Contexte narratif précédent : \"{previous_context}\"\n",
        "\n",
        "            Écris un texte narratif immersif, détaillé (~350 mots minimum), fluide et captivant.\n",
        "            Inclure anecdotes, dates, personnages et transitions.\n",
        "            Ne contredis aucun texte précédent.\n",
        "            Ajoute entre crochet,\n",
        "            la manière dont il faut raconter certaines phrases entre colère, joie, tristesse, résignation, ...\n",
        "            ajoute aussi des rires, des soupires, des exclamations, des petits défauts authentique\n",
        "        \"\"\"\n",
        "        chap_text = generate_text(client, chap_prompt)\n",
        "        script_chapters.append({\n",
        "            \"numero\": idx,\n",
        "            \"titre\": chap[\"titre\"],\n",
        "            \"texte\": chap_text\n",
        "        })\n",
        "        previous_context += \" \" + chap_text\n",
        "\n",
        "        print(f\"✅ PART 2 : {idx} Script Generated\")\n",
        "\n",
        "    conclusion_prompt = f\"\"\"\n",
        "        Rédige une conclusion forte et mémorable pour le documentaire '{topic}'.\n",
        "        Contexte narratif précédent : \"{previous_context}\"\n",
        "        Durée : ~250 mots (~2 min narration).\n",
        "        Résume l'ensemble, relie les chapitres et termine sur une phrase marquante.\n",
        "        Ajoute entre crochet,\n",
        "        la manière dont il faut raconter certaines phrases entre colère, joie, tristesse, résignation, ...\n",
        "        ajoute aussi des rires, des soupires, des exclamations, des petits défauts authentique\n",
        "    \"\"\"\n",
        "\n",
        "    conclusion_text = generate_text(client, conclusion_prompt)\n",
        "\n",
        "    script_chapters.append({\n",
        "        \"numero\": len(plan[\"chapitres\"]) + 1,\n",
        "        \"titre\": \"Conclusion\",\n",
        "        \"texte\": conclusion_text\n",
        "    })\n",
        "    print(\"✅ PART 2 : Conclusion Script Generated\")\n",
        "\n",
        "    with open(output_json_path, \"w\", encoding=\"utf-8\") as f:\n",
        "        json.dump(script_chapters, f, indent=2, ensure_ascii=False)\n",
        "\n",
        "    print('===============================================')\n",
        "\n",
        "    return"
      ],
      "metadata": {
        "id": "q2hAeLrF-n0I"
      },
      "execution_count": 32,
      "outputs": []
    },
    {
      "cell_type": "markdown",
      "source": [
        "# Part 3 : Audio Generation"
      ],
      "metadata": {
        "id": "dXbZOoKJ9wv7"
      }
    },
    {
      "cell_type": "code",
      "source": [
        "GOOGLE_API_KEY = userdata.get('GEMINI')\n",
        "client = genai.Client(api_key=GOOGLE_API_KEY)\n",
        "\n",
        "prompt = \"\"\"\n",
        "    Read this in French with the voice of an old sage recounting the war:\n",
        "    C'était en 1939, les français sont attaqués par les Allemands. Ce fut cruel, apre, et ça a bouleversé nos vies.\n",
        "    Then, you sigh and say with great emotion :\n",
        "    Je me souviens des pleures de ma mère qui me regardait partir au front, c'était la guerre\n",
        "    Then, You laught and you say :\n",
        "    Mais on les a bien défoncé\n",
        "\"\"\"\n",
        "\n",
        "def generate_audio(client, prompt):\n",
        "  voice_name = \"Iapetus\"\n",
        "  MODEL_ID = \"gemini-2.5-flash-preview-tts\"\n",
        "  response = client.models.generate_content(\n",
        "    model=MODEL_ID,\n",
        "    contents=prompt,\n",
        "    config={\"response_modalities\": ['Audio'],\n",
        "            \"speech_config\": {\"voice_config\": {\"prebuilt_voice_config\": {\"voice_name\": voice_name}}}},\n",
        "    )\n",
        "  data = response.candidates[0].content.parts[0].inline_data.data\n",
        "  return data\n",
        "\n",
        "def wave_file(filename, pcm, channels=1, rate=24000, sample_width=2):\n",
        "   with wave.open(filename, \"wb\") as wf:\n",
        "      wf.setnchannels(channels)\n",
        "      wf.setsampwidth(sample_width)\n",
        "      wf.setframerate(rate)\n",
        "      wf.writeframes(pcm)\n",
        "\n",
        "data = generate_audio(client, prompt)\n",
        "wave_file('out.wav', data)"
      ],
      "metadata": {
        "colab": {
          "base_uri": "https://localhost:8080/",
          "height": 122
        },
        "id": "suOCpDMk6QUe",
        "outputId": "c7322fcd-25e4-4699-c1bd-fa35442599d3"
      },
      "execution_count": 33,
      "outputs": [
        {
          "output_type": "execute_result",
          "data": {
            "text/plain": [
              "'\\nGOOGLE_API_KEY = userdata.get(\\'GEMINI\\')\\nclient = genai.Client(api_key=GOOGLE_API_KEY)\\n\\nprompt = \\n    Read this in French with the voice of an old sage recounting the war:\\n    C\\'était en 1939, les français sont attaqués par les Allemands. Ce fut cruel, apre, et ça a bouleversé nos vies.\\n    Then, you sigh and say with great emotion :\\n    Je me souviens des pleures de ma mère qui me regardait partir au front, c\\'était la guerre\\n    Then, You laught and you say :\\n    Mais on les a bien défoncé\\n\\n\\ndef generate_audio(client, prompt):\\n  voice_name = \"Iapetus\"\\n  MODEL_ID = \"gemini-2.5-flash-preview-tts\"\\n  response = client.models.generate_content(\\n    model=MODEL_ID,\\n    contents=prompt,\\n    config={\"response_modalities\": [\\'Audio\\'],\\n            \"speech_config\": {\"voice_config\": {\"prebuilt_voice_config\": {\"voice_name\": voice_name}}}},\\n    )\\n  data = response.candidates[0].content.parts[0].inline_data.data\\n  return data\\n\\ndef wave_file(filename, pcm, channels=1, rate=24000, sample_width=2):\\n   with wave.open(filename, \"wb\") as wf:\\n      wf.setnchannels(channels)\\n      wf.setsampwidth(sample_width)\\n      wf.setframerate(rate)\\n      wf.writeframes(pcm)\\n\\ndata = generate_audio(client, prompt)\\nwave_file(\\'out.wav\\', data)\\n'"
            ],
            "application/vnd.google.colaboratory.intrinsic+json": {
              "type": "string"
            }
          },
          "metadata": {},
          "execution_count": 33
        }
      ]
    },
    {
      "cell_type": "markdown",
      "source": [
        "# MAIN"
      ],
      "metadata": {
        "id": "rJF6i-LcBYn-"
      }
    },
    {
      "cell_type": "code",
      "source": [
        "#from google.colab import files\n",
        "#files.download(\"mon_fichier.csv\")"
      ],
      "metadata": {
        "id": "F3A60vET6GA-"
      },
      "execution_count": 34,
      "outputs": []
    },
    {
      "cell_type": "code",
      "source": [
        "def main(topic):\n",
        "\n",
        "    topic_analyzer(topic)\n",
        "    script_generator(topic)\n",
        "    #voice_generation()\n",
        "    #image_generation()\n",
        "    #video_generation()\n",
        "    #music_generation()\n",
        "    #video_editing()\n",
        "\n",
        "    return\n",
        "\n",
        "main(TOPIC)"
      ],
      "metadata": {
        "colab": {
          "base_uri": "https://localhost:8080/"
        },
        "id": "KbwFiWUO-1QX",
        "outputId": "c3f7d3ff-d154-40eb-ce72-220840afc94f"
      },
      "execution_count": 35,
      "outputs": [
        {
          "output_type": "stream",
          "name": "stdout",
          "text": [
            "✅ Plan documentaire sauvegardé dans : outputs/PART1_la_guerre_froide.json\n",
            "{\n",
            "  \"titre_video\": \"La Guerre Froide : Les 50 ans qui ont failli détruire le monde\",\n",
            "  \"description_SEO\": \"Plongez dans l'histoire captivante de la Guerre Froide, une période de tensions géopolitiques qui a mis le monde au bord de la catastrophe nucléaire. Découvrez comment les superpuissances que sont les États-Unis et l'URSS ont joué un jeu de chat et de souris, créant des alliances, des blocs et des crises qui ont façonné le monde moderne. De la division de l'Allemagne à la crise de Cuba, revivez les moments clés de cette époque troublée et découvrez comment la Guerre Froide a laissé une empreinte durable sur la politique, la société et la culture internationales. Avec des archives inédites et des analyses expertes, ce documentaire vous transporte au cœur de la Guerre Froide, vous permettant de comprendre les complexités et les conséquences de ce chapitre crucial de l'histoire du 20e siècle. Les mots-clés de cette vidéo incluent la guerre froide, l'URSS, les États-Unis, la crise de Cuba, le rideau de fer, et la course aux armements.\",\n",
            "  \"mots_cles\": [\n",
            "    \"guerre froide\",\n",
            "    \"URSS\",\n",
            "    \"États-Unis\",\n",
            "    \"crise de Cuba\",\n",
            "    \"rideau de fer\",\n",
            "    \"course aux armements\"\n",
            "  ],\n",
            "  \"chapitres\": [\n",
            "    {\n",
            "      \"titre\": \"1. Les Origines de la Guerre Froide\",\n",
            "      \"contenu\": \"La Seconde Guerre mondiale venait de se terminer, mais les tensions entre les Alliés commençaient déjà à monter. Les États-Unis et l'URSS, qui avaient été alliés contre le nazisme, se retrouvaient face à face dans une lutte idéologique et géopolitique. La conférence de Yalta et celle de Potsdam ont jeté les bases de la division de l'Europe et du monde en deux blocs rivaux.\"\n",
            "    },\n",
            "    {\n",
            "      \"titre\": \"2. Le Rideau de Fer et la Division de l'Europe\",\n",
            "      \"contenu\": \"Le discours de Winston Churchill à Fulton en 1946 a popularisé l'expression 'rideau de fer' pour décrire la barrière physique et idéologique qui séparait l'Europe de l'Ouest de l'Europe de l'Est. La création du bloc de l'Est sous influence soviétique et la formation de l'OTAN ont consolidé cette division, créant un climat de méfiance et de tensions qui allait caractériser la Guerre Froide.\"\n",
            "    },\n",
            "    {\n",
            "      \"titre\": \"3. La Course aux Armements et les Crises\",\n",
            "      \"contenu\": \"La Guerre Froide a été marquée par une course aux armements sans précédent, avec le développement de l'arme nucléaire et la multiplication des tests. Les crises de Berlin, la construction du mur de Berlin, et surtout la crise de Cuba en 1962, qui a failli dégénérer en conflit nucléaire, ont été des moments de tension extrême entre les superpuissances.\"\n",
            "    },\n",
            "    {\n",
            "      \"titre\": \"4. La Détente et la Fin de la Guerre Froide\",\n",
            "      \"contenu\": \"Les années 1970 ont vu l'émergence d'une politique de détente, avec des sommets entre les États-Unis et l'URSS et des accords de limitation des armements. Cependant, l'invasion de l'Afghanistan par l'URSS en 1979 a ravivé les tensions. Ce n'est qu'avec l'arrivée de Mikhaïl Gorbatchev et ses réformes de glasnost et de perestroïka que la Guerre Froide a vraiment commencé à prendre fin, aboutissant à la chute du mur de Berlin en 1989 et à la dissolution de l'URSS en 1991.\"\n",
            "    },\n",
            "    {\n",
            "      \"titre\": \"5. L'Héritage de la Guerre Froide\",\n",
            "      \"contenu\": \"La Guerre Froide a laissé un héritage complexe, avec des conséquences durables sur la géopolitique mondiale, les relations internationales, et la société. Elle a également nourri une culture de méfiance et de surveillance, avec des implications pour les droits de l'homme et les libertés individuelles. Comprendre la Guerre Froide est essentiel pour appréhender les défis du 21e siècle, de la lutte contre le terrorisme aux défis de la gouvernance mondiale.\"\n",
            "    }\n",
            "  ]\n",
            "}\n",
            "Introduction Script Generated\n",
            "Chapitre 1 Script Generated\n",
            "Chapitre 2 Script Generated\n",
            "Chapitre 3 Script Generated\n",
            "Chapitre 4 Script Generated\n",
            "Chapitre 5 Script Generated\n",
            "Conclusion Script Generated\n",
            "✅ Script narratif complet (chapitres) sauvegardé dans : outputs/PART2_la_guerre_froide.json\n",
            "📏 Nombre approximatif de mots générés : 3982\n"
          ]
        }
      ]
    }
  ],
  "metadata": {
    "colab": {
      "collapsed_sections": [
        "0fgOxpmGrOvn"
      ],
      "name": "Get_started_TTS.ipynb",
      "toc_visible": true,
      "provenance": [],
      "include_colab_link": true
    },
    "kernelspec": {
      "display_name": "Python 3",
      "name": "python3"
    }
  },
  "nbformat": 4,
  "nbformat_minor": 0
}